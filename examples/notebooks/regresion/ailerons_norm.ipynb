{
 "cells": [
  {
   "cell_type": "markdown",
   "metadata": {},
   "source": [
    "# Ailerons norm\n",
    "> Regression"
   ]
  },
  {
   "cell_type": "code",
   "execution_count": null,
   "metadata": {},
   "outputs": [],
   "source": [
    "import warnings\n",
    "warnings.filterwarnings('ignore')\n",
    "\n",
    "import numpy as np\n",
    "import pandas as pd\n",
    "from sklearn.model_selection import RepeatedKFold\n",
    "import xgboost as xgb\n",
    "from sklearn.metrics import mean_squared_error\n",
    "\n",
    "from GAparsimony import GAparsimony, Population, getFitness"
   ]
  },
  {
   "cell_type": "code",
   "execution_count": null,
   "metadata": {},
   "outputs": [],
   "source": [
    "df = pd.read_csv(\"../data/ailerons_norm.csv\")\n",
    "print(df.shape)\n",
    "X, y = df.iloc[:, :-1], df.iloc[:, -1]\n",
    "df.head()"
   ]
  },
  {
   "cell_type": "code",
   "execution_count": null,
   "metadata": {},
   "outputs": [],
   "source": [
    "rerank_error = 0.01\n",
    "params = {\"n_estimators\":{\"range\": (10, 2000), \"type\": Population.INTEGER}, \n",
    "            \"max_depth\":{\"range\": (2, 20), \"type\": Population.INTEGER}, \n",
    "            \"min_child_weight\": {\"range\": (1, 20), \"type\": Population.INTEGER},\n",
    "             \"reg_alpha\": {\"range\": (0., 1.), \"type\": Population.FLOAT},\n",
    "             \"reg_lambda\": {\"range\": (0., 1.), \"type\": Population.FLOAT},\n",
    "             \"subsample\": {\"range\": (0.6, 1.), \"type\": Population.FLOAT},\n",
    "             \"subsample\": {\"range\": (0.6, 1.), \"type\": Population.FLOAT},\n",
    "             \"colsample_bytree\": {\"range\": (0.8, 1.), \"type\": Population.FLOAT},\n",
    "             \"learning_rate\": {\"value\": 0.01, \"type\": Population.CONSTANT},\n",
    "             \"random_state\": {\"value\": 1234, \"type\": Population.CONSTANT},\n",
    "             \"verbosity\": {\"value\": 0, \"type\": Population.CONSTANT}}\n",
    "\n",
    "def complexity(model, nFeatures, **kwargs):\n",
    "    return nFeatures*1E9 + len(model.get_booster().get_dump())\n",
    "\n",
    "fitness = getFitness(xgb.XGBRegressor, mean_squared_error, complexity, minimize=True, test_size=0.2, random_state=42, n_jobs=-1)"
   ]
  },
  {
   "cell_type": "code",
   "execution_count": null,
   "metadata": {},
   "outputs": [],
   "source": [
    "GAparsimony_model = GAparsimony(fitness=fitness,\n",
    "                                  params=params,\n",
    "                                  features=len(df.columns[:-1]),\n",
    "                                  keep_history = True,\n",
    "                                  rerank_error = rerank_error,\n",
    "                                  popSize = 64,\n",
    "                                  elitism = 16,\n",
    "                                  maxiter = 25, early_stop=10,\n",
    "                                  feat_thres=0.90, # Perc selected features in first generation\n",
    "                                  feat_mut_thres=0.10, # Prob of a feature to be one in mutation\n",
    "                                  seed_ini = 1234)"
   ]
  },
  {
   "cell_type": "code",
   "execution_count": null,
   "metadata": {},
   "outputs": [],
   "source": [
    "GAparsimony_model.fit(X, y)"
   ]
  },
  {
   "cell_type": "code",
   "execution_count": null,
   "metadata": {},
   "outputs": [],
   "source": [
    "GAparsimony_model.summary()"
   ]
  },
  {
   "cell_type": "code",
   "execution_count": null,
   "metadata": {},
   "outputs": [],
   "source": [
    "GAparsimony_model.importance()"
   ]
  },
  {
   "cell_type": "code",
   "execution_count": null,
   "metadata": {},
   "outputs": [],
   "source": [
    "GAparsimony_model.plot()"
   ]
  },
  {
   "cell_type": "code",
   "execution_count": null,
   "metadata": {},
   "outputs": [],
   "source": []
  }
 ],
 "metadata": {
  "kernelspec": {
   "display_name": "Python 3",
   "language": "python",
   "name": "python3"
  },
  "language_info": {
   "codemirror_mode": {
    "name": "ipython",
    "version": 3
   },
   "file_extension": ".py",
   "mimetype": "text/x-python",
   "name": "python",
   "nbconvert_exporter": "python",
   "pygments_lexer": "ipython3",
   "version": "3.8.6"
  }
 },
 "nbformat": 4,
 "nbformat_minor": 4
}
